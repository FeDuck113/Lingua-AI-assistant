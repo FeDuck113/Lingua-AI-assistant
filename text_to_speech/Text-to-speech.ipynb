{
 "cells": [
  {
   "cell_type": "code",
   "execution_count": null,
   "metadata": {
    "execution": {
     "iopub.execute_input": "2025-05-09T08:52:43.039803Z",
     "iopub.status.busy": "2025-05-09T08:52:43.039600Z",
     "iopub.status.idle": "2025-05-09T08:54:45.798857Z",
     "shell.execute_reply": "2025-05-09T08:54:45.798262Z",
     "shell.execute_reply.started": "2025-05-09T08:52:43.039785Z"
    },
    "id": "PPBTkKIC9voW",
    "trusted": true
   },
   "outputs": [],
   "source": [
    "!pip install -q kokoro>=0.9.4 soundfile\n",
    "!pip install uvicorn\n",
    "!pip install pyngrok\n",
    "!pip install fastapi\n",
    "# !apt-get -qq -y install espeak-ng > /dev/null 2>&1\n",
    "from kokoro import KPipeline\n",
    "from IPython.display import display, Audio\n",
    "import soundfile as sf\n",
    "from pyngrok import ngrok, conf"
   ]
  },
  {
   "cell_type": "code",
   "execution_count": 2,
   "metadata": {
    "execution": {
     "iopub.execute_input": "2025-05-09T08:54:45.800545Z",
     "iopub.status.busy": "2025-05-09T08:54:45.800265Z",
     "iopub.status.idle": "2025-05-09T08:54:45.804972Z",
     "shell.execute_reply": "2025-05-09T08:54:45.804284Z",
     "shell.execute_reply.started": "2025-05-09T08:54:45.800526Z"
    },
    "id": "wF0lLpCc92vW",
    "trusted": true
   },
   "outputs": [],
   "source": [
    "def speech_to_text(text, language):\n",
    "  pipeline = KPipeline(lang_code=language)\n",
    "  generator = pipeline(text, voice='af_heart')\n",
    "  for i, (gs, ps, audio) in enumerate(generator):\n",
    "    print(i, gs, ps)\n",
    "    display(Audio(data=audio, rate=24000, autoplay=i==0))\n",
    "    sf.write(f'{i}.wav', audio, 24000)"
   ]
  },
  {
   "cell_type": "code",
   "execution_count": null,
   "metadata": {
    "execution": {
     "iopub.execute_input": "2025-05-09T08:54:45.806091Z",
     "iopub.status.busy": "2025-05-09T08:54:45.805787Z",
     "iopub.status.idle": "2025-05-09T08:54:45.867872Z",
     "shell.execute_reply": "2025-05-09T08:54:45.867147Z",
     "shell.execute_reply.started": "2025-05-09T08:54:45.806062Z"
    },
    "id": "_Bv1a9v1BK5s",
    "trusted": true
   },
   "outputs": [],
   "source": [
    "conf.get_default().auth_token = \"\""
   ]
  },
  {
   "cell_type": "code",
   "execution_count": 4,
   "metadata": {
    "execution": {
     "iopub.execute_input": "2025-05-09T08:54:45.868830Z",
     "iopub.status.busy": "2025-05-09T08:54:45.868614Z",
     "iopub.status.idle": "2025-05-09T08:54:45.881626Z",
     "shell.execute_reply": "2025-05-09T08:54:45.880954Z",
     "shell.execute_reply.started": "2025-05-09T08:54:45.868811Z"
    },
    "trusted": true
   },
   "outputs": [],
   "source": [
    "import datetime"
   ]
  },
  {
   "cell_type": "code",
   "execution_count": null,
   "metadata": {
    "colab": {
     "base_uri": "https://localhost:8080/"
    },
    "execution": {
     "execution_failed": "2025-05-09T16:46:36.699Z",
     "iopub.execute_input": "2025-05-09T08:54:45.896979Z",
     "iopub.status.busy": "2025-05-09T08:54:45.896670Z"
    },
    "id": "YQGzVwGPf2vI",
    "outputId": "443dab71-819c-4aa2-aede-6f84d4c3d6bc",
    "trusted": true
   },
   "outputs": [],
   "source": [
    "import os\n",
    "import tempfile\n",
    "import uvicorn\n",
    "from fastapi import FastAPI, Request, HTTPException\n",
    "from fastapi.responses import FileResponse, JSONResponse\n",
    "from pyngrok import ngrok\n",
    "import soundfile as sf\n",
    "from pydantic import BaseModel\n",
    "import nest_asyncio\n",
    "import datetime\n",
    "\n",
    "app = FastAPI()\n",
    "port = 5000\n",
    "\n",
    "ngrok.kill()\n",
    "\n",
    "# Ngrok туннель\n",
    "public_url = ngrok.connect(port).public_url\n",
    "print(f\" * ngrok tunnel \\\"{public_url}\\\" -> \\\"http://127.0.0.1:{port}\\\"\")\n",
    "\n",
    "\n",
    "class AudioRequest(BaseModel):\n",
    "    text: str\n",
    "    language: str = \"en\"\n",
    "\n",
    "@app.get(\"/\")\n",
    "async def logg():\n",
    "    print('get 200')\n",
    "    return 200\n",
    "\n",
    "@app.post(\"/audio\")\n",
    "async def generate_audio(request_data: AudioRequest):\n",
    "    try:\n",
    "        text = request_data.text\n",
    "        language = request_data.language\n",
    "        print(text, language, datetime.datetime.now())\n",
    "        # Временный WAV-файл\n",
    "        temp_file = tempfile.NamedTemporaryFile(suffix=\".wav\", delete=False)\n",
    "\n",
    "        print('Start generation', datetime.datetime.now())\n",
    "        # Генерация аудио\n",
    "        pipeline = KPipeline(lang_code=language)\n",
    "        generator = pipeline(text, voice='af_heart')\n",
    "        print('End generation', datetime.datetime.now())\n",
    "\n",
    "        # Берём первый сегмент\n",
    "        for _, _, audio in generator:\n",
    "            sf.write(temp_file.name, audio, 24000)\n",
    "            break\n",
    "\n",
    "        return FileResponse(\n",
    "            path=temp_file.name,\n",
    "            media_type='audio/wav',\n",
    "            filename='output.wav'\n",
    "        )\n",
    "\n",
    "    except Exception as e:\n",
    "        raise HTTPException(status_code=500, detail=str(e))\n",
    "\n",
    "\n",
    "@app.get(\"/audio\")\n",
    "async def get_usage():\n",
    "    return JSONResponse(content={\"message\": \"Use POST /audio with JSON {text, language}\"})\n",
    "\n",
    "\n",
    "nest_asyncio.apply()\n",
    "uvicorn.run(app, port=port)"
   ]
  },
  {
   "cell_type": "code",
   "execution_count": null,
   "metadata": {
    "trusted": true
   },
   "outputs": [],
   "source": []
  }
 ],
 "metadata": {
  "accelerator": "GPU",
  "colab": {
   "gpuType": "T4",
   "provenance": []
  },
  "kaggle": {
   "accelerator": "nvidiaTeslaT4",
   "dataSources": [],
   "dockerImageVersionId": 31012,
   "isGpuEnabled": true,
   "isInternetEnabled": true,
   "language": "python",
   "sourceType": "notebook"
  },
  "kernelspec": {
   "display_name": "Python 3",
   "language": "python",
   "name": "python3"
  },
  "language_info": {
   "codemirror_mode": {
    "name": "ipython",
    "version": 3
   },
   "file_extension": ".py",
   "mimetype": "text/x-python",
   "name": "python",
   "nbconvert_exporter": "python",
   "pygments_lexer": "ipython3",
   "version": "3.11.11"
  }
 },
 "nbformat": 4,
 "nbformat_minor": 4
}
