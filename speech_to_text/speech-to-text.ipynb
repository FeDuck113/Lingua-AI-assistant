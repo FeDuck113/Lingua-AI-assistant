{
 "cells": [
  {
   "cell_type": "code",
   "execution_count": null,
   "metadata": {
    "colab": {
     "base_uri": "https://localhost:8080/"
    },
    "execution": {
     "iopub.execute_input": "2025-05-09T08:50:44.155864Z",
     "iopub.status.busy": "2025-05-09T08:50:44.155655Z",
     "iopub.status.idle": "2025-05-09T08:50:58.470565Z",
     "shell.execute_reply": "2025-05-09T08:50:58.469855Z",
     "shell.execute_reply.started": "2025-05-09T08:50:44.155846Z"
    },
    "executionInfo": {
     "elapsed": 20798,
     "status": "ok",
     "timestamp": 1746469858752,
     "user": {
      "displayName": "Федор Щетинин",
      "userId": "13115132532232632102"
     },
     "user_tz": -180
    },
    "id": "ZJ12K5B0sQQN",
    "outputId": "baf24dd9-b3b8-40c6-a18e-4ee0d3363020",
    "trusted": true
   },
   "outputs": [],
   "source": [
    "!pip install fastapi\n",
    "!pip install uvicorn\n",
    "!pip install python-multipart\n",
    "!pip install pyngrok"
   ]
  },
  {
   "cell_type": "code",
   "execution_count": 2,
   "metadata": {
    "execution": {
     "iopub.execute_input": "2025-05-09T08:50:58.472205Z",
     "iopub.status.busy": "2025-05-09T08:50:58.471981Z",
     "iopub.status.idle": "2025-05-09T08:51:32.385353Z",
     "shell.execute_reply": "2025-05-09T08:51:32.384788Z",
     "shell.execute_reply.started": "2025-05-09T08:50:58.472185Z"
    },
    "id": "UDItQJt-qpd1",
    "trusted": true
   },
   "outputs": [
    {
     "name": "stderr",
     "output_type": "stream",
     "text": [
      "2025-05-09 08:51:11.698193: E external/local_xla/xla/stream_executor/cuda/cuda_fft.cc:477] Unable to register cuFFT factory: Attempting to register factory for plugin cuFFT when one has already been registered\n",
      "WARNING: All log messages before absl::InitializeLog() is called are written to STDERR\n",
      "E0000 00:00:1746780672.005175      31 cuda_dnn.cc:8310] Unable to register cuDNN factory: Attempting to register factory for plugin cuDNN when one has already been registered\n",
      "E0000 00:00:1746780672.082551      31 cuda_blas.cc:1418] Unable to register cuBLAS factory: Attempting to register factory for plugin cuBLAS when one has already been registered\n"
     ]
    }
   ],
   "source": [
    "from transformers import pipeline\n",
    "import soundfile as sf\n",
    "from fastapi import FastAPI, UploadFile, File, Form\n",
    "import nest_asyncio\n",
    "import uvicorn\n",
    "from pyngrok import ngrok, conf\n",
    "import datetime"
   ]
  },
  {
   "cell_type": "code",
   "execution_count": 3,
   "metadata": {
    "execution": {
     "iopub.execute_input": "2025-05-09T08:51:32.386578Z",
     "iopub.status.busy": "2025-05-09T08:51:32.386036Z",
     "iopub.status.idle": "2025-05-09T08:51:32.390377Z",
     "shell.execute_reply": "2025-05-09T08:51:32.389675Z",
     "shell.execute_reply.started": "2025-05-09T08:51:32.386558Z"
    },
    "id": "cyCI5s6Ws0Va",
    "trusted": true
   },
   "outputs": [],
   "source": [
    "app = FastAPI()"
   ]
  },
  {
   "cell_type": "code",
   "execution_count": 4,
   "metadata": {
    "colab": {
     "base_uri": "https://localhost:8080/"
    },
    "execution": {
     "iopub.execute_input": "2025-05-09T08:51:32.392361Z",
     "iopub.status.busy": "2025-05-09T08:51:32.392135Z",
     "iopub.status.idle": "2025-05-09T08:51:45.758679Z",
     "shell.execute_reply": "2025-05-09T08:51:45.757652Z",
     "shell.execute_reply.started": "2025-05-09T08:51:32.392337Z"
    },
    "executionInfo": {
     "elapsed": 27453,
     "status": "ok",
     "timestamp": 1746469913348,
     "user": {
      "displayName": "Федор Щетинин",
      "userId": "13115132532232632102"
     },
     "user_tz": -180
    },
    "id": "kidex6NdLDyT",
    "outputId": "8bec25c9-30bb-472d-e40a-ec73fcceab1c",
    "trusted": true
   },
   "outputs": [
    {
     "data": {
      "application/vnd.jupyter.widget-view+json": {
       "model_id": "83ce82499b364816879deec1dbfc86a0",
       "version_major": 2,
       "version_minor": 0
      },
      "text/plain": [
       "config.json:   0%|          | 0.00/1.26k [00:00<?, ?B/s]"
      ]
     },
     "metadata": {},
     "output_type": "display_data"
    },
    {
     "data": {
      "application/vnd.jupyter.widget-view+json": {
       "model_id": "b859550076c04c99a7a8396a6606f408",
       "version_major": 2,
       "version_minor": 0
      },
      "text/plain": [
       "model.safetensors:   0%|          | 0.00/1.62G [00:00<?, ?B/s]"
      ]
     },
     "metadata": {},
     "output_type": "display_data"
    },
    {
     "data": {
      "application/vnd.jupyter.widget-view+json": {
       "model_id": "2ab547e785624fc8876e209517270d39",
       "version_major": 2,
       "version_minor": 0
      },
      "text/plain": [
       "generation_config.json:   0%|          | 0.00/3.77k [00:00<?, ?B/s]"
      ]
     },
     "metadata": {},
     "output_type": "display_data"
    },
    {
     "data": {
      "application/vnd.jupyter.widget-view+json": {
       "model_id": "791dc0550333461e8df27cb19d4a373c",
       "version_major": 2,
       "version_minor": 0
      },
      "text/plain": [
       "tokenizer_config.json:   0%|          | 0.00/283k [00:00<?, ?B/s]"
      ]
     },
     "metadata": {},
     "output_type": "display_data"
    },
    {
     "data": {
      "application/vnd.jupyter.widget-view+json": {
       "model_id": "eabab135e82a47ff91bedb29eb20ecad",
       "version_major": 2,
       "version_minor": 0
      },
      "text/plain": [
       "vocab.json:   0%|          | 0.00/1.04M [00:00<?, ?B/s]"
      ]
     },
     "metadata": {},
     "output_type": "display_data"
    },
    {
     "data": {
      "application/vnd.jupyter.widget-view+json": {
       "model_id": "0dde997b59b843fd8b98a58ddeb45eb2",
       "version_major": 2,
       "version_minor": 0
      },
      "text/plain": [
       "tokenizer.json:   0%|          | 0.00/2.71M [00:00<?, ?B/s]"
      ]
     },
     "metadata": {},
     "output_type": "display_data"
    },
    {
     "data": {
      "application/vnd.jupyter.widget-view+json": {
       "model_id": "fb320373977c4ff193bec5c9de32b149",
       "version_major": 2,
       "version_minor": 0
      },
      "text/plain": [
       "merges.txt:   0%|          | 0.00/494k [00:00<?, ?B/s]"
      ]
     },
     "metadata": {},
     "output_type": "display_data"
    },
    {
     "data": {
      "application/vnd.jupyter.widget-view+json": {
       "model_id": "1332ab0edfab48f8bcb2d1bbcb3aa1c0",
       "version_major": 2,
       "version_minor": 0
      },
      "text/plain": [
       "normalizer.json:   0%|          | 0.00/52.7k [00:00<?, ?B/s]"
      ]
     },
     "metadata": {},
     "output_type": "display_data"
    },
    {
     "data": {
      "application/vnd.jupyter.widget-view+json": {
       "model_id": "39417ae98ddf415ba71c7b1723f6414d",
       "version_major": 2,
       "version_minor": 0
      },
      "text/plain": [
       "added_tokens.json:   0%|          | 0.00/34.6k [00:00<?, ?B/s]"
      ]
     },
     "metadata": {},
     "output_type": "display_data"
    },
    {
     "data": {
      "application/vnd.jupyter.widget-view+json": {
       "model_id": "3f35e91885fe4ac5a618c3e14b557a62",
       "version_major": 2,
       "version_minor": 0
      },
      "text/plain": [
       "special_tokens_map.json:   0%|          | 0.00/2.19k [00:00<?, ?B/s]"
      ]
     },
     "metadata": {},
     "output_type": "display_data"
    },
    {
     "data": {
      "application/vnd.jupyter.widget-view+json": {
       "model_id": "2aeb0d5891f44eff9d7c7339c9573691",
       "version_major": 2,
       "version_minor": 0
      },
      "text/plain": [
       "preprocessor_config.json:   0%|          | 0.00/340 [00:00<?, ?B/s]"
      ]
     },
     "metadata": {},
     "output_type": "display_data"
    },
    {
     "name": "stderr",
     "output_type": "stream",
     "text": [
      "Device set to use cuda:0\n"
     ]
    }
   ],
   "source": [
    "pipe = pipeline(\"automatic-speech-recognition\", model=\"openai/whisper-large-v3-turbo\")"
   ]
  },
  {
   "cell_type": "code",
   "execution_count": null,
   "metadata": {
    "execution": {
     "iopub.execute_input": "2025-05-09T08:51:45.759951Z",
     "iopub.status.busy": "2025-05-09T08:51:45.759618Z",
     "iopub.status.idle": "2025-05-09T08:51:45.764341Z",
     "shell.execute_reply": "2025-05-09T08:51:45.763357Z",
     "shell.execute_reply.started": "2025-05-09T08:51:45.759923Z"
    },
    "id": "uhFdGUn4LLGU",
    "trusted": true
   },
   "outputs": [],
   "source": [
    "conf.get_default().auth_token = \"\""
   ]
  },
  {
   "cell_type": "code",
   "execution_count": 6,
   "metadata": {
    "execution": {
     "iopub.execute_input": "2025-05-09T08:51:45.765467Z",
     "iopub.status.busy": "2025-05-09T08:51:45.765192Z",
     "iopub.status.idle": "2025-05-09T08:51:45.857786Z",
     "shell.execute_reply": "2025-05-09T08:51:45.856841Z",
     "shell.execute_reply.started": "2025-05-09T08:51:45.765439Z"
    },
    "id": "qMIiz3gca4kj",
    "trusted": true
   },
   "outputs": [],
   "source": [
    "@app.get(\"/\")\n",
    "async def ttt():\n",
    "  print('get 200')\n",
    "  return 200\n",
    "\n",
    "@app.post(\"/get_data/\")\n",
    "async def get_data(audio: UploadFile = File(...), language: str = Form(...)):\n",
    "    if language == \"english_b\": language = \"english\"\n",
    "    data, samplerate = sf.read(audio.file)\n",
    "    sf.write('new_file.wav', data, samplerate)\n",
    "    text = pipe('new_file.wav', generate_kwargs={\"language\": language})[\"text\"]\n",
    "    print(text, language, datetime.datetime.now())\n",
    "    return {\"text\": text}"
   ]
  },
  {
   "cell_type": "code",
   "execution_count": null,
   "metadata": {
    "colab": {
     "base_uri": "https://localhost:8080/"
    },
    "execution": {
     "execution_failed": "2025-05-09T16:46:49.848Z",
     "iopub.execute_input": "2025-05-09T08:51:45.859109Z",
     "iopub.status.busy": "2025-05-09T08:51:45.858761Z"
    },
    "id": "36DzzSX1z3Bo",
    "outputId": "8f4a1133-41ef-462b-ed7d-975a7ddca34a",
    "trusted": true
   },
   "outputs": [],
   "source": [
    "port = 5000\n",
    "\n",
    "ngrok.kill()\n",
    "public_url = ngrok.connect(port).public_url\n",
    "print(f' * ngrok tunnel \"{public_url}\" -> \"http://127.0.0.1:{port}\"')\n",
    "\n",
    "nest_asyncio.apply()\n",
    "uvicorn.run(app, port=port)"
   ]
  },
  {
   "cell_type": "code",
   "execution_count": null,
   "metadata": {
    "trusted": true
   },
   "outputs": [],
   "source": []
  }
 ],
 "metadata": {
  "accelerator": "GPU",
  "colab": {
   "gpuType": "T4",
   "provenance": [
    {
     "file_id": "18boaZlDRUrfBAuSB31jAClt1t-gssXsr",
     "timestamp": 1746460659267
    }
   ]
  },
  "kaggle": {
   "accelerator": "nvidiaTeslaT4",
   "dataSources": [],
   "dockerImageVersionId": 31012,
   "isGpuEnabled": true,
   "isInternetEnabled": true,
   "language": "python",
   "sourceType": "notebook"
  },
  "kernelspec": {
   "display_name": "Python 3",
   "language": "python",
   "name": "python3"
  },
  "language_info": {
   "codemirror_mode": {
    "name": "ipython",
    "version": 3
   },
   "file_extension": ".py",
   "mimetype": "text/x-python",
   "name": "python",
   "nbconvert_exporter": "python",
   "pygments_lexer": "ipython3",
   "version": "3.11.11"
  }
 },
 "nbformat": 4,
 "nbformat_minor": 4
}
